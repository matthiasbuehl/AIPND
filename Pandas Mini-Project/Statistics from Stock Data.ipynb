{
 "cells": [
  {
   "cell_type": "markdown",
   "metadata": {},
   "source": [
    "# Statistics from Stock Data\n",
    "\n",
    "In this lab we will load stock data into a Pandas Dataframe and calculate some statistics on it. We will be working with stock data from Google, Apple, and Amazon. All the stock data was downloaded from yahoo finance in CSV format. In your workspace you should have a file named GOOG.csv containing the Google stock data, a file named AAPL.csv containing the Apple stock data, and a file  named AMZN.csv containing the Amazon stock data. All the files contain 7 columns of data:\n",
    "\n",
    "**Date Open High Low Close Adj_Close Volume**\n",
    "\n",
    "We will start by reading in any of the above CSV files into a DataFrame and see what the data looks like."
   ]
  },
  {
   "cell_type": "code",
   "execution_count": 51,
   "metadata": {},
   "outputs": [
    {
     "name": "stdout",
     "output_type": "stream",
     "text": [
      "         Date       Open       High        Low      Close  Adj Close    Volume\n",
      "0  2004-08-19  49.676899  51.693783  47.669952  49.845802  49.845802  44994500\n",
      "1  2004-08-20  50.178635  54.187561  49.925285  53.805050  53.805050  23005800\n",
      "2  2004-08-23  55.017166  56.373344  54.172661  54.346527  54.346527  18393200\n",
      "3  2004-08-24  55.260582  55.439419  51.450363  52.096165  52.096165  15361800\n",
      "4  2004-08-25  52.140873  53.651051  51.604362  52.657513  52.657513   9257400\n"
     ]
    }
   ],
   "source": [
    "# We import pandas into Python\n",
    "import pandas as pd\n",
    "\n",
    "\n",
    "# We read in a stock data data file into a data frame and see what it looks like\n",
    "google = pd.read_csv('GOOG.csv')\n",
    "\n",
    "\n",
    "# We display the first 5 rows of the DataFrame\n",
    "print(google.head())\n"
   ]
  },
  {
   "cell_type": "markdown",
   "metadata": {},
   "source": [
    "We clearly see that the Dataframe is has automatically labeled the row indices using integers and has labeled the columns of the DataFrame using the names of the columns in the CSV files.\n",
    "\n",
    "# To Do\n",
    "\n",
    "You will now load the stock data from Google, Apple, and Amazon into separte DataFrames. However, for each stock data you will only be interested in loading the `Date` and `Adj Close` columns into the Dataframe. In addtion, you want to use the `Date` column as your row index. Finally, you want the DataFrame to recognize the dates as actual dates (year/month/day) and not as strings. For each stock, you can accomplish all theses things in just one line of code by using the appropiate keywords in the `pd.read_csv()` function. Here are a few hints:\n",
    "\n",
    "* Use the `index_col` keyword to indicate which column you want to use as an index. For example `index_col = ['Open']`\n",
    "\n",
    "* Set the `parse_dates` keyword equal to `True` to convert the Dates into real dates of the form year/month/day\n",
    "\n",
    "* Use the `usecols` keyword to select which columns you want to load into the DataFrame. For example `usecols = ['Open', 'High']`\n",
    "\n",
    "Fill in the code below:"
   ]
  },
  {
   "cell_type": "code",
   "execution_count": 52,
   "metadata": {},
   "outputs": [],
   "source": [
    "# We load the Google stock data into a DataFrame\n",
    "# We load the Apple stock data into a DataFrame\n",
    "# We load the Amazon stock data into a DataFrame \n",
    "\n",
    "google_stock = pd.read_csv('GOOG.csv', usecols=['Date', 'Adj Close'], index_col = ['Date'], parse_dates=True)\n",
    "apple_stock = pd.read_csv('AAPL.csv', usecols=['Date', 'Adj Close'], index_col = ['Date'], parse_dates=True)\n",
    "amazon_stock = pd.read_csv('AMZN.csv', usecols=['Date', 'Adj Close'], index_col = ['Date'], parse_dates=True)"
   ]
  },
  {
   "cell_type": "markdown",
   "metadata": {},
   "source": [
    "You can check that you have loaded the data correctly by displaying the head of the DataFrames."
   ]
  },
  {
   "cell_type": "code",
   "execution_count": 53,
   "metadata": {},
   "outputs": [
    {
     "name": "stdout",
     "output_type": "stream",
     "text": [
      "            Adj Close\n",
      "Date                 \n",
      "2004-08-19  49.845802\n",
      "2004-08-20  53.805050\n",
      "2004-08-23  54.346527\n",
      "2004-08-24  52.096165\n",
      "2004-08-25  52.657513\n"
     ]
    }
   ],
   "source": [
    "# We display the google_stock DataFrame\n",
    "print(google_stock.head())"
   ]
  },
  {
   "cell_type": "markdown",
   "metadata": {},
   "source": [
    "You will now join the three DataFrames above to create a single new DataFrame that contains all the `Adj Close` for all the stocks. Let's start by creating an empty DataFrame that has as row indices calendar days between `2000-01-01`  and `2016-12-31`. We will use the `pd.date_range()` function to create the calendar dates first and then we will create a DataFrame that uses those dates as row indices:"
   ]
  },
  {
   "cell_type": "code",
   "execution_count": 54,
   "metadata": {},
   "outputs": [
    {
     "name": "stdout",
     "output_type": "stream",
     "text": [
      "DatetimeIndex(['2000-01-01', '2000-01-02', '2000-01-03', '2000-01-04',\n",
      "               '2000-01-05', '2000-01-06', '2000-01-07', '2000-01-08',\n",
      "               '2000-01-09', '2000-01-10',\n",
      "               ...\n",
      "               '2016-12-22', '2016-12-23', '2016-12-24', '2016-12-25',\n",
      "               '2016-12-26', '2016-12-27', '2016-12-28', '2016-12-29',\n",
      "               '2016-12-30', '2016-12-31'],\n",
      "              dtype='datetime64[ns]', length=6210, freq='D')\n",
      "Empty DataFrame\n",
      "Columns: []\n",
      "Index: [2000-01-01 00:00:00, 2000-01-02 00:00:00, 2000-01-03 00:00:00, 2000-01-04 00:00:00, 2000-01-05 00:00:00]\n"
     ]
    }
   ],
   "source": [
    "# We create calendar dates between '2000-01-01' and  '2016-12-31'\n",
    "dates = pd.date_range('2000-01-01', '2016-12-31')\n",
    "print(dates)\n",
    "\n",
    "# We create and empty DataFrame that uses the above dates as indices\n",
    "all_stocks = pd.DataFrame(index = dates)\n",
    "print(all_stocks.head())"
   ]
  },
  {
   "cell_type": "markdown",
   "metadata": {},
   "source": [
    "# To Do\n",
    "\n",
    "You will now join the the individual DataFrames, `google_stock`, `apple_stock`, and `amazon_stock`, to the `all_stocks` DataFrame. However, before you do this, it is necessary that you change the name of the columns in each of the three dataframes. This is because the column labels in the `all_stocks` dataframe must be unique. Since all the columns in the individual dataframes have the same name, `Adj Close`, we must change them to the stock name before joining them. In the space below change the column label `Adj Close` of each individual dataframe to the name of the corresponding stock. You can do this by using the `pd.DataFrame.rename()` function. "
   ]
  },
  {
   "cell_type": "code",
   "execution_count": 55,
   "metadata": {},
   "outputs": [],
   "source": [
    "# Change the Adj Close column label to Google\n",
    "google_stock = google_stock.rename(columns={'Adj Close': 'Google'})\n",
    "\n",
    "# Change the Adj Close column label to Apple\n",
    "apple_stock = apple_stock.rename(columns={'Adj Close': 'Apple'})\n",
    "\n",
    "# Change the Adj Close column label to Amazon\n",
    "amazon_stock =  amazon_stock.rename(columns={'Adj Close': 'Amazon'})"
   ]
  },
  {
   "cell_type": "markdown",
   "metadata": {},
   "source": [
    "You can check that the column labels have been changed correctly by displaying the datadrames"
   ]
  },
  {
   "cell_type": "code",
   "execution_count": 56,
   "metadata": {},
   "outputs": [
    {
     "name": "stdout",
     "output_type": "stream",
     "text": [
      "               Google\n",
      "Date                 \n",
      "2004-08-19  49.845802\n",
      "2004-08-20  53.805050\n",
      "2004-08-23  54.346527\n",
      "2004-08-24  52.096165\n",
      "2004-08-25  52.657513\n"
     ]
    }
   ],
   "source": [
    "# We display the google_stock DataFrame\n",
    "print(google_stock.head())"
   ]
  },
  {
   "cell_type": "code",
   "execution_count": 57,
   "metadata": {},
   "outputs": [
    {
     "name": "stdout",
     "output_type": "stream",
     "text": [
      "               Apple\n",
      "Date                \n",
      "2000-01-03  3.596616\n",
      "2000-01-04  3.293384\n",
      "2000-01-05  3.341579\n",
      "2000-01-06  3.052405\n",
      "2000-01-07  3.196992\n"
     ]
    }
   ],
   "source": [
    "# We display the apple_stock DataFrame\n",
    "print(apple_stock.head())"
   ]
  },
  {
   "cell_type": "code",
   "execution_count": 58,
   "metadata": {},
   "outputs": [
    {
     "name": "stdout",
     "output_type": "stream",
     "text": [
      "             Amazon\n",
      "Date               \n",
      "2000-01-03  89.3750\n",
      "2000-01-04  81.9375\n",
      "2000-01-05  69.7500\n",
      "2000-01-06  65.5625\n",
      "2000-01-07  69.5625\n"
     ]
    }
   ],
   "source": [
    "# We display the amazon_stock DataFrame\n",
    "print(amazon_stock.head())"
   ]
  },
  {
   "cell_type": "markdown",
   "metadata": {},
   "source": [
    "Now that we have unique column labels, we can join the individual DataFrames to the `all_stocks` DataFrame. For this we will use the `dataframe.join()` function. The function `dataframe1.join(dataframe2)` joins `dataframe1` with `dataframe2`. We will join each dataframe one by one to the `all_stocks` dataframe. Fill in the code below to join the dataframes, the first join has been made for you:"
   ]
  },
  {
   "cell_type": "code",
   "execution_count": 59,
   "metadata": {},
   "outputs": [],
   "source": [
    "\n",
    "# We join the Google stock to all_stocks\n",
    "all_stocks = all_stocks.join(google_stock)\n",
    "\n",
    "# We join the Apple stock to all_stocks\n",
    "all_stocks = all_stocks.join(apple_stock)\n",
    "\n",
    "# We join the Amazon stock to all_stocks\n",
    "all_stocks = all_stocks.join(amazon_stock)"
   ]
  },
  {
   "cell_type": "markdown",
   "metadata": {},
   "source": [
    "You can check that the dataframes have been joined correctly by displaying the `all_stocks`  dataframe"
   ]
  },
  {
   "cell_type": "code",
   "execution_count": 60,
   "metadata": {},
   "outputs": [
    {
     "name": "stdout",
     "output_type": "stream",
     "text": [
      "            Google     Apple   Amazon\n",
      "2000-01-01     NaN       NaN      NaN\n",
      "2000-01-02     NaN       NaN      NaN\n",
      "2000-01-03     NaN  3.596616  89.3750\n",
      "2000-01-04     NaN  3.293384  81.9375\n",
      "2000-01-05     NaN  3.341579  69.7500\n"
     ]
    }
   ],
   "source": [
    "# We display the all_stocks DataFrame\n",
    "print(all_stocks.head())"
   ]
  },
  {
   "cell_type": "markdown",
   "metadata": {},
   "source": [
    "# To Do\n",
    "\n",
    "Before we proceed to get some statistics on the stock data, let's first check that we don't have any *NaN* values. In the space below check if there are any *NaN* values in the `all_stocks`  dataframe. If there are any, remove any rows that have *NaN* values:"
   ]
  },
  {
   "cell_type": "code",
   "execution_count": 63,
   "metadata": {},
   "outputs": [
    {
     "data": {
      "text/plain": [
       "Google    True\n",
       "Apple     True\n",
       "Amazon    True\n",
       "dtype: bool"
      ]
     },
     "execution_count": 63,
     "metadata": {},
     "output_type": "execute_result"
    }
   ],
   "source": [
    "# Check if there are any NaN values in the all_stocks dataframe\n",
    "all_stocks.isnull().any()\n"
   ]
  },
  {
   "cell_type": "code",
   "execution_count": 67,
   "metadata": {},
   "outputs": [],
   "source": [
    "# Remove any rows that contain NaN values\n",
    "all_stocks.dropna(axis=0, inplace=True)"
   ]
  },
  {
   "cell_type": "markdown",
   "metadata": {},
   "source": [
    "You can check that the *NaN* values have been eliminated by displaying the `all_stocks`  dataframe"
   ]
  },
  {
   "cell_type": "code",
   "execution_count": 68,
   "metadata": {},
   "outputs": [
    {
     "data": {
      "text/plain": [
       "Google    False\n",
       "Apple     False\n",
       "Amazon    False\n",
       "dtype: bool"
      ]
     },
     "execution_count": 68,
     "metadata": {},
     "output_type": "execute_result"
    }
   ],
   "source": [
    "# Check if there are any NaN values in the all_stocks dataframe\n",
    "all_stocks.isnull().any()"
   ]
  },
  {
   "cell_type": "markdown",
   "metadata": {},
   "source": [
    "Display the `all_stocks`  dataframe and verify that there are no *NaN* values "
   ]
  },
  {
   "cell_type": "code",
   "execution_count": 69,
   "metadata": {},
   "outputs": [
    {
     "name": "stdout",
     "output_type": "stream",
     "text": [
      "                Google       Apple      Amazon\n",
      "2004-08-19   49.845802    1.973460   38.630001\n",
      "2004-08-20   53.805050    1.979244   39.509998\n",
      "2004-08-23   54.346527    1.997236   39.450001\n",
      "2004-08-24   52.096165    2.053144   39.049999\n",
      "2004-08-25   52.657513    2.123831   40.299999\n",
      "2004-08-26   53.606342    2.227291   40.189999\n",
      "2004-08-27   52.732029    2.207371   39.900002\n",
      "2004-08-30   50.675404    2.192590   38.310001\n",
      "2004-08-31   50.854240    2.216367   38.139999\n",
      "2004-09-01   49.801090    2.304405   38.240002\n",
      "2004-09-02   50.427021    2.291552   39.180000\n",
      "2004-09-03   49.681866    2.263920   38.740002\n",
      "2004-09-07   50.461796    2.297979   38.509998\n",
      "2004-09-08   50.819469    2.335893   38.009998\n",
      "2004-09-09   50.824436    2.294122   38.070000\n",
      "2004-09-10   52.324677    2.305047   38.570000\n",
      "2004-09-13   53.402668    2.287054   40.009998\n",
      "2004-09-14   55.384777    2.280628   42.669998\n",
      "2004-09-15   55.638126    2.261993   42.209999\n",
      "2004-09-16   56.616764    2.335893   42.570000\n",
      "2004-09-17   58.365391    2.386659   42.959999\n",
      "2004-09-20   59.294346    2.423287   43.270000\n",
      "2004-09-21   58.539257    2.442566   43.290001\n",
      "2004-09-22   58.807514    2.372521   41.380001\n",
      "2004-09-23   60.019630    2.395013   41.830002\n",
      "2004-09-24   59.527828    2.396298   40.939999\n",
      "2004-09-27   58.747902    2.411721   39.930000\n",
      "2004-09-28   63.020115    2.444494   39.430000\n",
      "2004-09-29   65.116478    2.485621   40.840000\n",
      "2004-09-30   64.381264    2.490119   40.860001\n",
      "...                ...         ...         ...\n",
      "2016-11-17  771.229980  108.598877  756.400024\n",
      "2016-11-18  760.539978  108.707527  760.159973\n",
      "2016-11-21  769.200012  110.357010  780.000000\n",
      "2016-11-22  768.270020  110.426147  785.330017\n",
      "2016-11-23  760.989990  109.863159  780.119995\n",
      "2016-11-25  761.679993  110.416275  780.369995\n",
      "2016-11-28  768.239990  110.198975  766.770020\n",
      "2016-11-29  770.840027  110.090332  762.520020\n",
      "2016-11-30  758.039978  109.161880  750.570007\n",
      "2016-12-01  747.919983  108.144531  743.650024\n",
      "2016-12-02  750.500000  108.549500  740.340027\n",
      "2016-12-05  762.520020  107.769203  759.359985\n",
      "2016-12-06  759.109985  108.598877  764.719971\n",
      "2016-12-07  771.190002  109.665604  770.419983\n",
      "2016-12-08  776.419983  110.742218  767.330017\n",
      "2016-12-09  789.289978  112.549728  768.659973\n",
      "2016-12-12  789.270020  111.907722  760.119995\n",
      "2016-12-13  796.099976  113.774490  774.340027\n",
      "2016-12-14  797.070007  113.774490  768.820007\n",
      "2016-12-15  797.849976  114.396751  761.000000\n",
      "2016-12-16  790.799988  114.544907  757.770020\n",
      "2016-12-19  794.200012  115.206673  766.000000\n",
      "2016-12-20  796.419983  115.512863  771.219971\n",
      "2016-12-21  794.559998  115.621513  770.599976\n",
      "2016-12-22  791.260010  114.860977  766.340027\n",
      "2016-12-23  789.909973  115.088142  760.590027\n",
      "2016-12-27  791.549988  115.819054  771.400024\n",
      "2016-12-28  785.049988  115.325203  772.130005\n",
      "2016-12-29  782.789978  115.295570  765.150024\n",
      "2016-12-30  771.820007  114.396751  749.869995\n",
      "\n",
      "[3115 rows x 3 columns]\n"
     ]
    }
   ],
   "source": [
    "# We display the all_stocks DataFrame\n",
    "print(all_stocks)"
   ]
  },
  {
   "cell_type": "markdown",
   "metadata": {},
   "source": [
    "Now that you have eliminated any *NaN* values we can now calculate some basic statistics on the stock prices. Fill in the code below"
   ]
  },
  {
   "cell_type": "code",
   "execution_count": 73,
   "metadata": {},
   "outputs": [
    {
     "name": "stdout",
     "output_type": "stream",
     "text": [
      "Google    347.420229\n",
      "Apple      47.736018\n",
      "Amazon    216.598177\n",
      "dtype: float64\n",
      "Google    286.397247\n",
      "Apple      39.461483\n",
      "Amazon    161.820007\n",
      "dtype: float64\n",
      "Google    187.671596\n",
      "Apple      37.421555\n",
      "Amazon    199.129792\n",
      "dtype: float64\n",
      "          Google     Apple    Amazon\n",
      "Google  1.000000  0.900242  0.952444\n",
      "Apple   0.900242  1.000000  0.886321\n",
      "Amazon  0.952444  0.886321  1.000000\n"
     ]
    }
   ],
   "source": [
    "# Print the average stock price for each stock\n",
    "print(all_stocks.mean())\n",
    "\n",
    "# Print the median stock price for each stock\n",
    "print(all_stocks.median())\n",
    "\n",
    "# Print the standard deviation of the stock price for each stock  \n",
    "print(all_stocks.std())\n",
    "\n",
    "# Print the correlation between stocks\n",
    "print(all_stocks.corr())"
   ]
  },
  {
   "cell_type": "markdown",
   "metadata": {},
   "source": [
    "We will now look at how we can compute some rolling statistics, also known as moving statistics. We can calculate for example the rolling mean (moving average) of the Google stock price by using the Pandas `dataframe.rolling().mean()` method. The `dataframe.rolling(N).mean()` calculates the rolling mean over an `N`-day window. In other words, we can take a look at the average stock price every `N`  days using the above method. Fill in the code below to calculate the average stock price every 150 days for Google stock"
   ]
  },
  {
   "cell_type": "code",
   "execution_count": 82,
   "metadata": {},
   "outputs": [
    {
     "name": "stdout",
     "output_type": "stream",
     "text": [
      "                Google       Apple      Amazon\n",
      "2004-08-19         NaN         NaN         NaN\n",
      "2004-08-20         NaN         NaN         NaN\n",
      "2004-08-23         NaN         NaN         NaN\n",
      "2004-08-24         NaN         NaN         NaN\n",
      "2004-08-25         NaN         NaN         NaN\n",
      "2004-08-26         NaN         NaN         NaN\n",
      "2004-08-27         NaN         NaN         NaN\n",
      "2004-08-30         NaN         NaN         NaN\n",
      "2004-08-31         NaN         NaN         NaN\n",
      "2004-09-01         NaN         NaN         NaN\n",
      "2004-09-02         NaN         NaN         NaN\n",
      "2004-09-03         NaN         NaN         NaN\n",
      "2004-09-07         NaN         NaN         NaN\n",
      "2004-09-08         NaN         NaN         NaN\n",
      "2004-09-09         NaN         NaN         NaN\n",
      "2004-09-10         NaN         NaN         NaN\n",
      "2004-09-13         NaN         NaN         NaN\n",
      "2004-09-14         NaN         NaN         NaN\n",
      "2004-09-15         NaN         NaN         NaN\n",
      "2004-09-16         NaN         NaN         NaN\n",
      "2004-09-17         NaN         NaN         NaN\n",
      "2004-09-20         NaN         NaN         NaN\n",
      "2004-09-21         NaN         NaN         NaN\n",
      "2004-09-22         NaN         NaN         NaN\n",
      "2004-09-23         NaN         NaN         NaN\n",
      "2004-09-24         NaN         NaN         NaN\n",
      "2004-09-27         NaN         NaN         NaN\n",
      "2004-09-28         NaN         NaN         NaN\n",
      "2004-09-29         NaN         NaN         NaN\n",
      "2004-09-30         NaN         NaN         NaN\n",
      "...                ...         ...         ...\n",
      "2016-11-17  747.646401  102.390235  747.983400\n",
      "2016-11-18  747.690468  102.422562  748.865133\n",
      "2016-11-21  747.800668  102.464461  749.845199\n",
      "2016-11-22  747.861534  102.514333  750.874066\n",
      "2016-11-23  748.143001  102.562330  751.938199\n",
      "2016-11-25  748.399867  102.617901  752.965999\n",
      "2016-11-28  748.800534  102.676750  753.965266\n",
      "2016-11-29  749.233867  102.777166  755.004933\n",
      "2016-11-30  749.680667  102.890757  755.995400\n",
      "2016-12-01  750.046733  103.004625  756.555800\n",
      "2016-12-02  750.395333  103.121840  756.932400\n",
      "2016-12-05  750.863067  103.223879  757.519333\n",
      "2016-12-06  751.285800  103.337862  758.144799\n",
      "2016-12-07  751.750867  103.461431  758.886999\n",
      "2016-12-08  752.186200  103.595567  759.509532\n",
      "2016-12-09  752.695466  103.741296  760.102266\n",
      "2016-12-12  753.136066  103.878641  760.482599\n",
      "2016-12-13  753.674800  104.034360  760.889999\n",
      "2016-12-14  754.233200  104.204218  761.229266\n",
      "2016-12-15  754.813333  104.377052  761.569799\n",
      "2016-12-16  755.308733  104.528980  761.883866\n",
      "2016-12-19  755.895200  104.687861  762.355400\n",
      "2016-12-20  756.493800  104.841812  762.847199\n",
      "2016-12-21  757.122066  104.998833  763.327732\n",
      "2016-12-22  757.665533  105.144137  763.751333\n",
      "2016-12-23  758.236666  105.283072  764.176933\n",
      "2016-12-27  758.713066  105.417301  764.624933\n",
      "2016-12-28  759.111599  105.537030  765.050133\n",
      "2016-12-29  759.502732  105.651415  765.385067\n",
      "2016-12-30  759.763799  105.760198  765.635933\n",
      "\n",
      "[3115 rows x 3 columns]\n"
     ]
    }
   ],
   "source": [
    "# We compute the rolling mean using a 150-Day window for Google stock\n",
    "rollingMean = all_stocks.rolling(150).mean()\n",
    "print(rollingMean)"
   ]
  },
  {
   "cell_type": "markdown",
   "metadata": {},
   "source": [
    "We can also visualize the rolling mean by plotting the data in our dataframe. In the following lessons you will learn how to use **Matplotlib** to visualize data. For now I will just import matplotlib and plot the Google stock data on top of the rolling mean. You can play around by changing the rolling mean window and see how the plot changes. "
   ]
  },
  {
   "cell_type": "code",
   "execution_count": 86,
   "metadata": {},
   "outputs": [
    {
     "data": {
      "image/png": "[encoded data removed]",
      "text/plain": [
       "<Figure size 432x288 with 1 Axes>"
      ]
     },
     "metadata": {
      "needs_background": "light"
     },
     "output_type": "display_data"
    }
   ],
   "source": [
    "%matplotlib inline\n",
    "\n",
    "# We import matplotlib into Python\n",
    "import matplotlib.pyplot as plt\n",
    "\n",
    "# We plot the Google stock data\n",
    "plt.plot(all_stocks)\n",
    "\n",
    "# We plot the rolling mean ontop of our Google stock data\n",
    "plt.plot(rollingMean)\n",
    "plt.legend(all_stocks.columns)\n",
    "plt.show()"
   ]
  },
  {
   "cell_type": "code",
   "execution_count": null,
   "metadata": {},
   "outputs": [],
   "source": []
  }
 ],
 "metadata": {
  "kernelspec": {
   "display_name": "Python 3",
   "language": "python",
   "name": "python3"
  },
  "language_info": {
   "codemirror_mode": {
    "name": "ipython",
    "version": 3
   },
   "file_extension": ".py",
   "mimetype": "text/x-python",
   "name": "python",
   "nbconvert_exporter": "python",
   "pygments_lexer": "ipython3",
   "version": "3.7.2"
  }
 },
 "nbformat": 4,
 "nbformat_minor": 2
}
